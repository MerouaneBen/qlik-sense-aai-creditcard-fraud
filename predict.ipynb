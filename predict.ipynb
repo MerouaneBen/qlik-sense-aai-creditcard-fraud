{
 "cells": [
  {
   "cell_type": "code",
   "execution_count": 31,
   "metadata": {
    "collapsed": true
   },
   "outputs": [],
   "source": [
    "import pandas as pd\n",
    "from sklearn.preprocessing import StandardScaler\n",
    "from sklearn.model_selection import train_test_split\n",
    "import keras"
   ]
  },
  {
   "cell_type": "markdown",
   "metadata": {},
   "source": [
    "### Read data from csv"
   ]
  },
  {
   "cell_type": "code",
   "execution_count": 32,
   "metadata": {},
   "outputs": [
    {
     "data": {
      "text/html": [
       "<div>\n",
       "<style>\n",
       "    .dataframe thead tr:only-child th {\n",
       "        text-align: right;\n",
       "    }\n",
       "\n",
       "    .dataframe thead th {\n",
       "        text-align: left;\n",
       "    }\n",
       "\n",
       "    .dataframe tbody tr th {\n",
       "        vertical-align: top;\n",
       "    }\n",
       "</style>\n",
       "<table border=\"1\" class=\"dataframe\">\n",
       "  <thead>\n",
       "    <tr style=\"text-align: right;\">\n",
       "      <th></th>\n",
       "      <th>Time</th>\n",
       "      <th>V1</th>\n",
       "      <th>V2</th>\n",
       "      <th>V3</th>\n",
       "      <th>V4</th>\n",
       "      <th>V5</th>\n",
       "      <th>V6</th>\n",
       "      <th>V7</th>\n",
       "      <th>V8</th>\n",
       "      <th>V9</th>\n",
       "      <th>...</th>\n",
       "      <th>V21</th>\n",
       "      <th>V22</th>\n",
       "      <th>V23</th>\n",
       "      <th>V24</th>\n",
       "      <th>V25</th>\n",
       "      <th>V26</th>\n",
       "      <th>V27</th>\n",
       "      <th>V28</th>\n",
       "      <th>Amount</th>\n",
       "      <th>Class</th>\n",
       "    </tr>\n",
       "  </thead>\n",
       "  <tbody>\n",
       "    <tr>\n",
       "      <th>0</th>\n",
       "      <td>171903</td>\n",
       "      <td>2.061208</td>\n",
       "      <td>-0.062057</td>\n",
       "      <td>-1.064422</td>\n",
       "      <td>0.420258</td>\n",
       "      <td>-0.162746</td>\n",
       "      <td>-1.222829</td>\n",
       "      <td>0.174308</td>\n",
       "      <td>-0.326566</td>\n",
       "      <td>0.56509</td>\n",
       "      <td>...</td>\n",
       "      <td>-0.290406</td>\n",
       "      <td>-0.71063</td>\n",
       "      <td>0.343072</td>\n",
       "      <td>0.041946</td>\n",
       "      <td>-0.305047</td>\n",
       "      <td>0.195898</td>\n",
       "      <td>-0.071801</td>\n",
       "      <td>-0.060157</td>\n",
       "      <td>1.98</td>\n",
       "      <td>0</td>\n",
       "    </tr>\n",
       "  </tbody>\n",
       "</table>\n",
       "<p>1 rows × 31 columns</p>\n",
       "</div>"
      ],
      "text/plain": [
       "     Time        V1        V2        V3        V4        V5        V6  \\\n",
       "0  171903  2.061208 -0.062057 -1.064422  0.420258 -0.162746 -1.222829   \n",
       "\n",
       "         V7        V8       V9  ...         V21      V22       V23       V24  \\\n",
       "0  0.174308 -0.326566  0.56509  ...   -0.290406 -0.71063  0.343072  0.041946   \n",
       "\n",
       "        V25       V26       V27       V28  Amount  Class  \n",
       "0 -0.305047  0.195898 -0.071801 -0.060157    1.98      0  \n",
       "\n",
       "[1 rows x 31 columns]"
      ]
     },
     "execution_count": 32,
     "metadata": {},
     "output_type": "execute_result"
    }
   ],
   "source": [
    "df = pd.read_csv('./data/creditcard_eval.csv')\n",
    "df.head(1)"
   ]
  },
  {
   "cell_type": "code",
   "execution_count": 33,
   "metadata": {
    "collapsed": true
   },
   "outputs": [],
   "source": [
    "df['Class'].unique() # 0 = no fraud, 1 = fraudulent\n",
    "\n",
    "X = df.iloc[:, :-1].values\n",
    "y = df.iloc[:, -1].values"
   ]
  },
  {
   "cell_type": "markdown",
   "metadata": {},
   "source": [
    "### Read predictive model from a file"
   ]
  },
  {
   "cell_type": "code",
   "execution_count": 34,
   "metadata": {
    "collapsed": true
   },
   "outputs": [],
   "source": [
    "from keras.models import load_model\n",
    "\n",
    "model = load_model('model.hdf5')"
   ]
  },
  {
   "cell_type": "markdown",
   "metadata": {},
   "source": [
    "### Read training data and calculate fit parameters for standarding input data\n",
    "This is for returning contant standardized values of input data without being affected by the input data size"
   ]
  },
  {
   "cell_type": "code",
   "execution_count": 35,
   "metadata": {},
   "outputs": [
    {
     "data": {
      "text/plain": [
       "StandardScaler(copy=True, with_mean=True, with_std=True)"
      ]
     },
     "execution_count": 35,
     "metadata": {},
     "output_type": "execute_result"
    }
   ],
   "source": [
    "# Read data from a file used for training/test\n",
    "df_for_modelling = pd.read_csv('./data/creditcard.csv')\n",
    "df_for_modelling['Class'].unique() # 0 = no fraud, 1 = fraudulent\n",
    "X_for_modelling = df_for_modelling.iloc[:, :-1].values\n",
    "X_train, X_test= train_test_split(X_for_modelling,test_size=0.1, random_state=1)\n",
    "\n",
    "# Define StandardScaler and calculate fit\n",
    "sc = StandardScaler()\n",
    "sc.fit(X_train)"
   ]
  },
  {
   "cell_type": "markdown",
   "metadata": {},
   "source": [
    "### Standardize input data"
   ]
  },
  {
   "cell_type": "code",
   "execution_count": 36,
   "metadata": {},
   "outputs": [
    {
     "data": {
      "text/plain": [
       "array([ 1.67269913,  1.05398046, -0.03487881, -0.71030355,  0.2963213 ,\n",
       "       -0.11398206, -0.92141418,  0.1421295 , -0.27308673,  0.51425984,\n",
       "        0.07097741, -0.7494073 ,  0.36048615, -0.0980674 ,  0.31967254,\n",
       "        0.05917208, -0.11417568, -0.32296366, -1.0138472 ,  0.17597502,\n",
       "       -0.30060944, -0.3931628 , -0.97920301,  0.54994043,  0.0705455 ,\n",
       "       -0.59057515,  0.4058566 , -0.17764786, -0.18324789, -0.34647481])"
      ]
     },
     "execution_count": 36,
     "metadata": {},
     "output_type": "execute_result"
    }
   ],
   "source": [
    "X_input = sc.transform(X)\n",
    "X_input[0]"
   ]
  },
  {
   "cell_type": "code",
   "execution_count": 37,
   "metadata": {
    "collapsed": true
   },
   "outputs": [],
   "source": [
    "from keras.models import Sequential\n",
    "from keras.layers import Dense\n",
    "from keras.layers import Dropout"
   ]
  },
  {
   "cell_type": "code",
   "execution_count": 38,
   "metadata": {
    "scrolled": true
   },
   "outputs": [
    {
     "name": "stdout",
     "output_type": "stream",
     "text": [
      "\r",
      "  15/1000 [..............................] - ETA: 5s"
     ]
    }
   ],
   "source": [
    "classes = model.predict_classes(X_input,batch_size=15, verbose=1)"
   ]
  },
  {
   "cell_type": "code",
   "execution_count": 39,
   "metadata": {},
   "outputs": [
    {
     "data": {
      "text/plain": [
       "array([[0],\n",
       "       [0],\n",
       "       [0],\n",
       "       [0],\n",
       "       [0],\n",
       "       [1],\n",
       "       [0],\n",
       "       [0],\n",
       "       [0],\n",
       "       [0]])"
      ]
     },
     "execution_count": 39,
     "metadata": {},
     "output_type": "execute_result"
    }
   ],
   "source": [
    "classes[0:10]"
   ]
  },
  {
   "cell_type": "code",
   "execution_count": null,
   "metadata": {
    "collapsed": true
   },
   "outputs": [],
   "source": []
  }
 ],
 "metadata": {
  "kernelspec": {
   "display_name": "Python 3",
   "language": "python",
   "name": "python3"
  },
  "language_info": {
   "codemirror_mode": {
    "name": "ipython",
    "version": 3
   },
   "file_extension": ".py",
   "mimetype": "text/x-python",
   "name": "python",
   "nbconvert_exporter": "python",
   "pygments_lexer": "ipython3",
   "version": "3.6.1"
  }
 },
 "nbformat": 4,
 "nbformat_minor": 2
}
